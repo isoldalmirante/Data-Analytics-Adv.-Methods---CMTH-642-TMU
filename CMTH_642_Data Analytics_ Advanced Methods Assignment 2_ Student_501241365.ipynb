{
  "nbformat": 4,
  "nbformat_minor": 0,
  "metadata": {
    "kernelspec": {
      "display_name": "Python 3.8.5 64-bit",
      "language": "python",
      "name": "python38564bit4963913491384e6e8a6a0ebd4048b706"
    },
    "language_info": {
      "name": "python",
      "version": "3.8.5-final",
      "mimetype": "text/x-python",
      "codemirror_mode": {
        "name": "ipython",
        "version": 3
      },
      "pygments_lexer": "ipython3",
      "nbconvert_exporter": "python",
      "file_extension": ".py"
    },
    "nteract": {
      "version": "0.25.0"
    },
    "varInspector": {
      "cols": {
        "lenName": 16,
        "lenType": 16,
        "lenVar": 40
      },
      "kernels_config": {
        "python": {
          "delete_cmd_postfix": "",
          "delete_cmd_prefix": "del ",
          "library": "var_list.py",
          "varRefreshCmd": "print(var_dic_list())"
        },
        "r": {
          "delete_cmd_postfix": ") ",
          "delete_cmd_prefix": "rm(",
          "library": "var_list.r",
          "varRefreshCmd": "cat(var_dic_list()) "
        }
      },
      "types_to_exclude": [
        "module",
        "function",
        "builtin_function_or_method",
        "instance",
        "_Feature"
      ],
      "window_display": false
    },
    "colab": {
      "provenance": []
    }
  },
  "cells": [
    {
      "cell_type": "markdown",
      "metadata": {
        "collapsed": false,
        "id": "TX_-QfCapg5r"
      },
      "source": [
        "## CMTH642 - Data Analytics: Advanced Methods  \n",
        "### Assignment 2 \n"
      ]
    },
    {
      "cell_type": "markdown",
      "metadata": {
        "collapsed": false,
        "id": "U8IqCJzxpg5t"
      },
      "source": [
        "*****\n",
        "Assignment 2 is worth 10% of the final grade. Submit the ipynb file and the generated pdf output file. Failing to submit both files will be subject to a mark deduction.\n",
        "*****\n",
        "\n"
      ]
    },
    {
      "cell_type": "markdown",
      "source": [
        "### Preparation\n",
        "\n",
        "The dataset is related to Forest Fires. For more info: https://archive.ics.uci.edu/ml/datasets/forest+fires"
      ],
      "metadata": {
        "id": "OE4FoDBm-ULU"
      }
    },
    {
      "cell_type": "code",
      "metadata": {
        "id": "I6UpceuN_dle"
      },
      "source": [
        "import pandas as pd\n",
        "import matplotlib.pyplot as plt\n",
        "import numpy as np"
      ],
      "execution_count": 1,
      "outputs": []
    },
    {
      "cell_type": "markdown",
      "source": [
        "# Q1. \n",
        "\n",
        "Read the csv file from the this URL https://archive.ics.uci.edu/ml/machine-learning-databases/forest-fires/forestfires.csv. Save it to a data frame called Forest. Check the first five records. (10 points)\n",
        "[Relevant Pandas API](https://pandas.pydata.org/docs/reference/api/pandas.read_csv.html)\n"
      ],
      "metadata": {
        "id": "XaX5w73fK8HZ"
      }
    },
    {
      "cell_type": "code",
      "source": [
        "url = \"https://archive.ics.uci.edu/ml/machine-learning-databases/forest-fires/forestfires.csv\"\n",
        "\n",
        "Forest = pd.read_csv(url)\n",
        "\n",
        "print(Forest.head())\n"
      ],
      "metadata": {
        "id": "LeBUg3jMLAsG",
        "colab": {
          "base_uri": "https://localhost:8080/"
        },
        "outputId": "a178c970-3145-446a-8d04-56837a2e0b3e"
      },
      "execution_count": 2,
      "outputs": [
        {
          "output_type": "stream",
          "name": "stdout",
          "text": [
            "   X  Y month  day  FFMC   DMC     DC  ISI  temp  RH  wind  rain  area\n",
            "0  7  5   mar  fri  86.2  26.2   94.3  5.1   8.2  51   6.7   0.0   0.0\n",
            "1  7  4   oct  tue  90.6  35.4  669.1  6.7  18.0  33   0.9   0.0   0.0\n",
            "2  7  4   oct  sat  90.6  43.7  686.9  6.7  14.6  33   1.3   0.0   0.0\n",
            "3  8  6   mar  fri  91.7  33.3   77.5  9.0   8.3  97   4.0   0.2   0.0\n",
            "4  8  6   mar  sun  89.3  51.3  102.2  9.6  11.4  99   1.8   0.0   0.0\n"
          ]
        }
      ]
    },
    {
      "cell_type": "markdown",
      "source": [
        "# Q2.\n",
        "How many observations are there in the dataset? How many observations are there with both a significant fire (burned area > 0) and rain? (10 points) [Relevent API1](https://pandas.pydata.org/pandas-docs/version/0.23/generated/pandas.DataFrame.shape.html) , [Relevant Pandas API 2](https://pandas.pydata.org/docs/getting_started/intro_tutorials/03_subset_data.html#)"
      ],
      "metadata": {
        "id": "WHeMpY0-LS7i"
      }
    },
    {
      "cell_type": "code",
      "source": [
        "total_obs = Forest.shape[0]\n",
        "print(\"Total observations =\", total_obs)\n",
        "\n",
        "fire_and_rain_obs = Forest[(Forest['area'] > 0) & (Forest['rain'] > 0)].shape[0]\n",
        "print(\"Observations with significant fire and rain =\", fire_and_rain_obs)\n"
      ],
      "metadata": {
        "id": "hTabQVd2BRdm",
        "colab": {
          "base_uri": "https://localhost:8080/"
        },
        "outputId": "751a17a1-39cb-4b2b-8bcf-bd555c6ca300"
      },
      "execution_count": 3,
      "outputs": [
        {
          "output_type": "stream",
          "name": "stdout",
          "text": [
            "Total observations = 517\n",
            "Observations with significant fire and rain = 2\n"
          ]
        }
      ]
    },
    {
      "cell_type": "markdown",
      "source": [
        "# Q3.\n",
        "Show the columns month, day, area of all the observations with a significant fire (burned area >0 ). (10 points) [Relevant Pandas API](https://pandas.pydata.org/docs/reference/api/pandas.DataFrame.loc.html)"
      ],
      "metadata": {
        "id": "IDRxMGfWLg_O"
      }
    },
    {
      "cell_type": "code",
      "source": [
        "significant_fire = Forest[Forest['area'] > 0][['month', 'day', 'area']]\n",
        "print(significant_fire)\n"
      ],
      "metadata": {
        "id": "afEiTeRTLqOc",
        "colab": {
          "base_uri": "https://localhost:8080/"
        },
        "outputId": "a7ce2415-2048-4edb-e555-883cc541d1ee"
      },
      "execution_count": 4,
      "outputs": [
        {
          "output_type": "stream",
          "name": "stdout",
          "text": [
            "    month  day   area\n",
            "138   jul  tue   0.36\n",
            "139   sep  tue   0.43\n",
            "140   sep  mon   0.47\n",
            "141   aug  wed   0.55\n",
            "142   aug  fri   0.61\n",
            "..    ...  ...    ...\n",
            "509   aug  fri   2.17\n",
            "510   aug  fri   0.43\n",
            "512   aug  sun   6.44\n",
            "513   aug  sun  54.29\n",
            "514   aug  sun  11.16\n",
            "\n",
            "[270 rows x 3 columns]\n"
          ]
        }
      ]
    },
    {
      "cell_type": "markdown",
      "source": [
        "# Q4.\n",
        "How large are the five largest fires (i.e. having largest area)? (10 points) [Relevant API](https://pandas.pydata.org/docs/reference/api/pandas.DataFrame.sort_values.html)"
      ],
      "metadata": {
        "id": "XrNuWHNOMq5p"
      }
    },
    {
      "cell_type": "code",
      "source": [
        "largest_fires = Forest.nlargest(5, 'area')['area']\n",
        "print(largest_fires)\n",
        "\n"
      ],
      "metadata": {
        "id": "k8iFRuVMM1AI",
        "colab": {
          "base_uri": "https://localhost:8080/"
        },
        "outputId": "58917df1-e807-4321-f276-07028d632e74"
      },
      "execution_count": 5,
      "outputs": [
        {
          "output_type": "stream",
          "name": "stdout",
          "text": [
            "238    1090.84\n",
            "415     746.28\n",
            "479     278.53\n",
            "237     212.88\n",
            "236     200.94\n",
            "Name: area, dtype: float64\n"
          ]
        }
      ]
    },
    {
      "cell_type": "markdown",
      "source": [
        "# Q5. \n",
        "For the records you obtained from the previous question, what are the corresponding month, temp, RH, wind, rain, area? (10 points)"
      ],
      "metadata": {
        "id": "3brpNkeAM9r_"
      }
    },
    {
      "cell_type": "code",
      "source": [
        "largest_fires_records = Forest.nlargest(5, 'area')[['month', 'temp', 'RH', 'wind', 'rain', 'area']]\n",
        "print(largest_fires_records)\n"
      ],
      "metadata": {
        "id": "P0HxQEC5NHG9",
        "colab": {
          "base_uri": "https://localhost:8080/"
        },
        "outputId": "3860901d-d8dd-4c17-89fe-ad3c80f71707"
      },
      "execution_count": 6,
      "outputs": [
        {
          "output_type": "stream",
          "name": "stdout",
          "text": [
            "    month  temp  RH  wind  rain     area\n",
            "238   sep  25.1  27   4.0   0.0  1090.84\n",
            "415   aug  27.5  27   4.9   0.0   746.28\n",
            "479   jul  22.6  57   4.9   0.0   278.53\n",
            "237   sep  18.8  40   2.2   0.0   212.88\n",
            "236   sep  18.2  46   1.8   0.0   200.94\n"
          ]
        }
      ]
    },
    {
      "cell_type": "markdown",
      "source": [
        "# Q6.\n",
        "For the whole dataset, reorder factor levels of month to be from Jan to Dec. (10 points)"
      ],
      "metadata": {
        "id": "o4UaGldlNy5w"
      }
    },
    {
      "cell_type": "code",
      "source": [
        "# First, create a dictionary adding month names to numerical values\n",
        "month_order = {\n",
        "    'jan': 1,\n",
        "    'feb': 2,\n",
        "    'mar': 3,\n",
        "    'apr': 4,\n",
        "    'may': 5,\n",
        "    'jun': 6,\n",
        "    'jul': 7,\n",
        "    'aug': 8,\n",
        "    'sep': 9,\n",
        "    'oct': 10,\n",
        "    'nov': 11,\n",
        "    'dec': 12\n",
        "}\n",
        "\n",
        "# Reorder the factor levels of the month column\n",
        "Forest['month'] = pd.Categorical(Forest['month'], categories=sorted(month_order, key=month_order.get), ordered=True)\n",
        "\n",
        "# Print the reordered factor levels\n",
        "print(Forest['month'])\n"
      ],
      "metadata": {
        "id": "rZvskgbfN0x2",
        "colab": {
          "base_uri": "https://localhost:8080/"
        },
        "outputId": "a94b4170-4b29-4065-a677-a9ee815363a1"
      },
      "execution_count": 7,
      "outputs": [
        {
          "output_type": "stream",
          "name": "stdout",
          "text": [
            "0      mar\n",
            "1      oct\n",
            "2      oct\n",
            "3      mar\n",
            "4      mar\n",
            "      ... \n",
            "512    aug\n",
            "513    aug\n",
            "514    aug\n",
            "515    aug\n",
            "516    nov\n",
            "Name: month, Length: 517, dtype: category\n",
            "Categories (12, object): ['jan' < 'feb' < 'mar' < 'apr' ... 'sep' < 'oct' < 'nov' < 'dec']\n"
          ]
        }
      ]
    },
    {
      "cell_type": "markdown",
      "source": [
        "# Q7.\n",
        "Add one column to the data indicating whether a fire occurred for each observation ('TRUE' for area>0 and 'FALSE' for area==0). (10 points)"
      ],
      "metadata": {
        "id": "bqIvFCPgNF-_"
      }
    },
    {
      "cell_type": "code",
      "source": [
        "# Add a new column 'fire_occurred' based on 'area' values\n",
        "Forest['fire_occurred'] = Forest['area'].apply(lambda x: 'TRUE' if x > 0 else 'FALSE')\n",
        "\n",
        "# Print the updated data\n",
        "print(Forest.head())\n"
      ],
      "metadata": {
        "id": "vfjm8H5COteH",
        "colab": {
          "base_uri": "https://localhost:8080/"
        },
        "outputId": "cbef3ef2-45dc-404c-d4a9-465a10aa7dd5"
      },
      "execution_count": 8,
      "outputs": [
        {
          "output_type": "stream",
          "name": "stdout",
          "text": [
            "   X  Y month  day  FFMC   DMC     DC  ISI  temp  RH  wind  rain  area  \\\n",
            "0  7  5   mar  fri  86.2  26.2   94.3  5.1   8.2  51   6.7   0.0   0.0   \n",
            "1  7  4   oct  tue  90.6  35.4  669.1  6.7  18.0  33   0.9   0.0   0.0   \n",
            "2  7  4   oct  sat  90.6  43.7  686.9  6.7  14.6  33   1.3   0.0   0.0   \n",
            "3  8  6   mar  fri  91.7  33.3   77.5  9.0   8.3  97   4.0   0.2   0.0   \n",
            "4  8  6   mar  sun  89.3  51.3  102.2  9.6  11.4  99   1.8   0.0   0.0   \n",
            "\n",
            "  fire_occurred  \n",
            "0         FALSE  \n",
            "1         FALSE  \n",
            "2         FALSE  \n",
            "3         FALSE  \n",
            "4         FALSE  \n"
          ]
        }
      ]
    },
    {
      "cell_type": "markdown",
      "source": [
        "#Q8. \n",
        "What is the mean area/wind/temp/RH per month? (10 points)"
      ],
      "metadata": {
        "id": "LneIVMYfPTYH"
      }
    },
    {
      "cell_type": "code",
      "source": [
        "mean_monthly_values = Forest.groupby('month').mean()[['area', 'wind', 'temp', 'RH']]\n",
        "print(mean_monthly_values)\n"
      ],
      "metadata": {
        "id": "tZHYITgvPXtS",
        "colab": {
          "base_uri": "https://localhost:8080/"
        },
        "outputId": "26767579-7192-4720-b8ba-4aa095e2055a"
      },
      "execution_count": 9,
      "outputs": [
        {
          "output_type": "stream",
          "name": "stdout",
          "text": [
            "            area      wind       temp         RH\n",
            "month                                           \n",
            "jan     0.000000  2.000000   5.250000  89.000000\n",
            "feb     6.275000  3.755000   9.635000  55.700000\n",
            "mar     4.356667  4.968519  13.083333  40.000000\n",
            "apr     8.891111  4.666667  12.044444  46.888889\n",
            "may    19.240000  4.450000  14.650000  67.000000\n",
            "jun     5.841176  4.135294  20.494118  45.117647\n",
            "jul    14.369687  3.734375  22.109375  45.125000\n",
            "aug    12.489076  4.086413  21.631522  45.489130\n",
            "sep    17.942616  3.557558  19.612209  42.843023\n",
            "oct     6.638000  3.460000  17.093333  37.466667\n",
            "nov     0.000000  4.500000  11.800000  31.000000\n",
            "dec    13.330000  7.644444   4.522222  38.444444\n"
          ]
        },
        {
          "output_type": "stream",
          "name": "stderr",
          "text": [
            "<ipython-input-9-6e0923aadddf>:1: FutureWarning: The default value of numeric_only in DataFrameGroupBy.mean is deprecated. In a future version, numeric_only will default to False. Either specify numeric_only or select only columns which should be valid for the function.\n",
            "  mean_monthly_values = Forest.groupby('month').mean()[['area', 'wind', 'temp', 'RH']]\n"
          ]
        }
      ]
    },
    {
      "cell_type": "markdown",
      "source": [
        "# Q9.\n",
        "How many observations are there in each month? Visualize by using a barplot in descending order. (10 points) [Relevant API 1](https://pandas.pydata.org/docs/reference/api/pandas.Series.value_counts.html) [Relevant API  2](https://matplotlib.org/stable/api/_as_gen/matplotlib.pyplot.hist.html)"
      ],
      "metadata": {
        "id": "dBSX3xe0QcOl"
      }
    },
    {
      "cell_type": "code",
      "source": [
        "import matplotlib.pyplot as plt\n",
        "import seaborn as sns\n",
        "\n",
        "# Count the number of obs in each month\n",
        "obs_per_month = Forest['month'].value_counts().sort_values(ascending=False)\n",
        "\n",
        "# Applying different colors for each bar\n",
        "colors = sns.color_palette('husl', len(obs_per_month))\n",
        "\n",
        "# Create a bar plot with custom colors\n",
        "plt.figure(figsize=(8, 6))\n",
        "obs_per_month.plot(kind='bar', color=colors)\n",
        "plt.xlabel('Month')\n",
        "plt.ylabel('Observation Count')\n",
        "plt.title('Number of Observations per Month')\n",
        "plt.show()\n",
        "\n"
      ],
      "metadata": {
        "id": "ptG7kM2MQaLX",
        "colab": {
          "base_uri": "https://localhost:8080/",
          "height": 580
        },
        "outputId": "f33e0792-079e-4e92-c4f0-d2ee03d683f8"
      },
      "execution_count": 10,
      "outputs": [
        {
          "output_type": "display_data",
          "data": {
            "text/plain": [
              "<Figure size 800x600 with 1 Axes>"
            ],
            "image/png": "[encoded data removed]"
          },
          "metadata": {}
        }
      ]
    },
    {
      "cell_type": "markdown",
      "source": [
        "# Q10. \n",
        "How many observations are there with burned area greater than zero in each month? Visualize by using a barplot in descending order. (10 points)"
      ],
      "metadata": {
        "id": "aAJoou94QgGT"
      }
    },
    {
      "cell_type": "code",
      "source": [
        "import matplotlib.pyplot as plt\n",
        "import seaborn as sns\n",
        "\n",
        "burned_area_greater_than_zero = Forest[Forest['area'] > 0]\n",
        "\n",
        "obs_per_month = burned_area_greater_than_zero['month'].value_counts().sort_values(ascending=False)\n",
        "\n",
        "colors = sns.color_palette('husl', len(obs_per_month))\n",
        "\n",
        "# Create a bar plot with custom colors\n",
        "plt.figure(figsize=(8, 6))\n",
        "obs_per_month.plot(kind='bar', color=colors)\n",
        "plt.xlabel('Month')\n",
        "plt.ylabel('Observation Count')\n",
        "plt.title('Number of Observations with Burned Area > 0 per Month')\n",
        "plt.show()\n"
      ],
      "metadata": {
        "id": "Flfqh9IuQk9g",
        "colab": {
          "base_uri": "https://localhost:8080/",
          "height": 580
        },
        "outputId": "8659db64-dde9-4443-f326-d0bb376a8f31"
      },
      "execution_count": 11,
      "outputs": [
        {
          "output_type": "display_data",
          "data": {
            "text/plain": [
              "<Figure size 800x600 with 1 Axes>"
            ],
            "image/png": "[encoded data removed]"
          },
          "metadata": {}
        }
      ]
    },
    {
      "cell_type": "markdown",
      "source": [
        "This is the end of Assignment 2\n",
        "\n",
        "Ceni Babaoglu, PhD"
      ],
      "metadata": {
        "id": "iIvLfsi-bz2Z"
      }
    }
  ]
}