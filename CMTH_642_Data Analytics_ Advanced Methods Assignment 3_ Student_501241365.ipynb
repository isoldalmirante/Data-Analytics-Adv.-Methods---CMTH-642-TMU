{
  "nbformat": 4,
  "nbformat_minor": 0,
  "metadata": {
    "kernelspec": {
      "display_name": "Python 3",
      "language": "python",
      "name": "python3"
    },
    "language_info": {
      "codemirror_mode": {
        "name": "ipython",
        "version": 3
      },
      "file_extension": ".py",
      "mimetype": "text/x-python",
      "name": "python",
      "nbconvert_exporter": "python",
      "pygments_lexer": "ipython3",
      "version": "3.7.6"
    },
    "colab": {
      "provenance": []
    }
  },
  "cells": [
    {
      "cell_type": "markdown",
      "metadata": {
        "collapsed": false,
        "id": "TX_-QfCapg5r"
      },
      "source": [
        "## CMTH642 - Data Analytics: Advanced Methods\n",
        "### Assignment 3\n"
      ]
    },
    {
      "cell_type": "markdown",
      "source": [
        "Assignment 3 is worth 10% of the final grade. Submit the ipynb file and a generated output file (PDF or HTML). Failing to submit both files will be subject to a mark deduction.\n",
        "\n",
        "Your output file should include all the tables, plots, and requested figures/values.\n",
        "\n",
        "Printing the lengthy outputs (e.g., the whole data frame or a list with more than 100 elements) will have a deduction of 5 points. Instead, please use head() or tail() to have a neat output.\n",
        "\n",
        "If you preprocess the data in a question, you should continue with the same dataset in the following questions unless otherwise mentioned.\n"
      ],
      "metadata": {
        "id": "KPUF4R_NlrMT"
      }
    },
    {
      "cell_type": "markdown",
      "source": [
        "### Preparation:\n",
        "\n",
        "The dataset is related to Portuguese \"Vinho Verde\" wines. For more info:\n",
        "https://archive.ics.uci.edu/ml/datasets/Wine+Quality\n",
        "\n",
        "Import the following files:\n",
        "http://archive.ics.uci.edu/ml/machine-learning-databases/wine-quality/winequality-white.csv\n",
        "http://archive.ics.uci.edu/ml/machine-learning-databases/wine-quality/winequality-red.csv\n"
      ],
      "metadata": {
        "id": "s2h0BVIqmIpE"
      }
    },
    {
      "cell_type": "markdown",
      "metadata": {
        "id": "xm7GwIpdH12O"
      },
      "source": [
        "### Question 1\n",
        "Join the red wine and white wine datasets by adding the rows of one to the other. Assign the joined data to a data frame and name it wine_data_all. (2 points)\n",
        "\n",
        "The following questions will be answered for wine_data_all.\n",
        "\n"
      ]
    },
    {
      "cell_type": "code",
      "source": [
        "import pandas as pd\n",
        "\n",
        "wine_white = \"http://archive.ics.uci.edu/ml/machine-learning-databases/wine-quality/winequality-white.csv\"\n",
        "wine_red = \"http://archive.ics.uci.edu/ml/machine-learning-databases/wine-quality/winequality-red.csv\"\n",
        "\n",
        "white_wine_data = pd.read_csv(wine_white, sep=';')\n",
        "\n",
        "red_wine_data = pd.read_csv(wine_red, sep=';')\n",
        "\n",
        "# Add a new column 'wine_type' to each dataset to distinguish the wines type\n",
        "white_wine_data['wine_type'] = 'white'\n",
        "red_wine_data['wine_type'] = 'red'\n",
        "\n",
        "# Concatenate the two datasets vertically to join them\n",
        "wine_data_all = pd.concat([white_wine_data, red_wine_data], ignore_index=True)\n",
        "\n",
        "print(wine_data_all.head())\n"
      ],
      "metadata": {
        "id": "FmAnHsBkNfoa",
        "colab": {
          "base_uri": "https://localhost:8080/",
          "height": 0
        },
        "outputId": "d4d01e57-8888-4f85-d4cf-4e0399e894f1"
      },
      "execution_count": 43,
      "outputs": [
        {
          "output_type": "stream",
          "name": "stdout",
          "text": [
            "   fixed acidity  volatile acidity  citric acid  residual sugar  chlorides  \\\n",
            "0            7.0              0.27         0.36            20.7      0.045   \n",
            "1            6.3              0.30         0.34             1.6      0.049   \n",
            "2            8.1              0.28         0.40             6.9      0.050   \n",
            "3            7.2              0.23         0.32             8.5      0.058   \n",
            "4            7.2              0.23         0.32             8.5      0.058   \n",
            "\n",
            "   free sulfur dioxide  total sulfur dioxide  density    pH  sulphates  \\\n",
            "0                 45.0                 170.0   1.0010  3.00       0.45   \n",
            "1                 14.0                 132.0   0.9940  3.30       0.49   \n",
            "2                 30.0                  97.0   0.9951  3.26       0.44   \n",
            "3                 47.0                 186.0   0.9956  3.19       0.40   \n",
            "4                 47.0                 186.0   0.9956  3.19       0.40   \n",
            "\n",
            "   alcohol  quality wine_type  \n",
            "0      8.8        6     white  \n",
            "1      9.5        6     white  \n",
            "2     10.1        6     white  \n",
            "3      9.9        6     white  \n",
            "4      9.9        6     white  \n"
          ]
        }
      ]
    },
    {
      "cell_type": "markdown",
      "metadata": {
        "id": "_s6g0tee67kr"
      },
      "source": [
        "### Question 2\n",
        "Check the data types of the attributes. (2 points)"
      ]
    },
    {
      "cell_type": "code",
      "source": [
        "print(wine_data_all.dtypes)\n"
      ],
      "metadata": {
        "id": "PtwZ55_KNq5l",
        "colab": {
          "base_uri": "https://localhost:8080/",
          "height": 0
        },
        "outputId": "acbd1eae-30ee-471e-91c8-d98704a7b5cd"
      },
      "execution_count": 44,
      "outputs": [
        {
          "output_type": "stream",
          "name": "stdout",
          "text": [
            "fixed acidity           float64\n",
            "volatile acidity        float64\n",
            "citric acid             float64\n",
            "residual sugar          float64\n",
            "chlorides               float64\n",
            "free sulfur dioxide     float64\n",
            "total sulfur dioxide    float64\n",
            "density                 float64\n",
            "pH                      float64\n",
            "sulphates               float64\n",
            "alcohol                 float64\n",
            "quality                   int64\n",
            "wine_type                object\n",
            "dtype: object\n"
          ]
        }
      ]
    },
    {
      "cell_type": "markdown",
      "metadata": {
        "id": "xAvoOQnu67kv"
      },
      "source": [
        "### Question 3\n",
        "Are there any missing values in the dataset? How many? You should not print the whole dataset. (2 points)"
      ]
    },
    {
      "cell_type": "code",
      "source": [
        "# Checking for missing values in the joined dataset\n",
        "missing_values = wine_data_all.isnull().sum()\n",
        "\n",
        "# Counting the total number of missing values\n",
        "total_missing = missing_values.sum()\n",
        "\n",
        "print(\"Total of missing values =\", total_missing)\n"
      ],
      "metadata": {
        "id": "H_x5heGtNup3",
        "colab": {
          "base_uri": "https://localhost:8080/",
          "height": 0
        },
        "outputId": "9f422212-3980-437a-979f-972306bbfb92"
      },
      "execution_count": 45,
      "outputs": [
        {
          "output_type": "stream",
          "name": "stdout",
          "text": [
            "Total of missing values = 0\n"
          ]
        }
      ]
    },
    {
      "cell_type": "markdown",
      "metadata": {
        "id": "TnITuRoZ67kw"
      },
      "source": [
        "### Question 4\n",
        "What is the correlation between the attributes other than Quality? (8 points)"
      ]
    },
    {
      "cell_type": "code",
      "source": [
        "# Calculate the correlation matrix for the attributes other than \"Quality\"\n",
        "correlation_matrix = wine_data_all.drop(\"quality\", axis=1).corr()\n",
        "\n",
        "print(correlation_matrix)\n"
      ],
      "metadata": {
        "id": "OBNJFgKrNt8t",
        "colab": {
          "base_uri": "https://localhost:8080/",
          "height": 0
        },
        "outputId": "e82db932-6906-4663-ab62-fc1ca1e8a22d"
      },
      "execution_count": 46,
      "outputs": [
        {
          "output_type": "stream",
          "name": "stdout",
          "text": [
            "                      fixed acidity  volatile acidity  citric acid  \\\n",
            "fixed acidity              1.000000          0.219008     0.324436   \n",
            "volatile acidity           0.219008          1.000000    -0.377981   \n",
            "citric acid                0.324436         -0.377981     1.000000   \n",
            "residual sugar            -0.111981         -0.196011     0.142451   \n",
            "chlorides                  0.298195          0.377124     0.038998   \n",
            "free sulfur dioxide       -0.282735         -0.352557     0.133126   \n",
            "total sulfur dioxide      -0.329054         -0.414476     0.195242   \n",
            "density                    0.458910          0.271296     0.096154   \n",
            "pH                        -0.252700          0.261454    -0.329808   \n",
            "sulphates                  0.299568          0.225984     0.056197   \n",
            "alcohol                   -0.095452         -0.037640    -0.010493   \n",
            "\n",
            "                      residual sugar  chlorides  free sulfur dioxide  \\\n",
            "fixed acidity              -0.111981   0.298195            -0.282735   \n",
            "volatile acidity           -0.196011   0.377124            -0.352557   \n",
            "citric acid                 0.142451   0.038998             0.133126   \n",
            "residual sugar              1.000000  -0.128940             0.402871   \n",
            "chlorides                  -0.128940   1.000000            -0.195045   \n",
            "free sulfur dioxide         0.402871  -0.195045             1.000000   \n",
            "total sulfur dioxide        0.495482  -0.279630             0.720934   \n",
            "density                     0.552517   0.362615             0.025717   \n",
            "pH                         -0.267320   0.044708            -0.145854   \n",
            "sulphates                  -0.185927   0.395593            -0.188457   \n",
            "alcohol                    -0.359415  -0.256916            -0.179838   \n",
            "\n",
            "                      total sulfur dioxide   density        pH  sulphates  \\\n",
            "fixed acidity                    -0.329054  0.458910 -0.252700   0.299568   \n",
            "volatile acidity                 -0.414476  0.271296  0.261454   0.225984   \n",
            "citric acid                       0.195242  0.096154 -0.329808   0.056197   \n",
            "residual sugar                    0.495482  0.552517 -0.267320  -0.185927   \n",
            "chlorides                        -0.279630  0.362615  0.044708   0.395593   \n",
            "free sulfur dioxide               0.720934  0.025717 -0.145854  -0.188457   \n",
            "total sulfur dioxide              1.000000  0.032395 -0.238413  -0.275727   \n",
            "density                           0.032395  1.000000  0.011686   0.259478   \n",
            "pH                               -0.238413  0.011686  1.000000   0.192123   \n",
            "sulphates                        -0.275727  0.259478  0.192123   1.000000   \n",
            "alcohol                          -0.265740 -0.686745  0.121248  -0.003029   \n",
            "\n",
            "                       alcohol  \n",
            "fixed acidity        -0.095452  \n",
            "volatile acidity     -0.037640  \n",
            "citric acid          -0.010493  \n",
            "residual sugar       -0.359415  \n",
            "chlorides            -0.256916  \n",
            "free sulfur dioxide  -0.179838  \n",
            "total sulfur dioxide -0.265740  \n",
            "density              -0.686745  \n",
            "pH                    0.121248  \n",
            "sulphates            -0.003029  \n",
            "alcohol               1.000000  \n"
          ]
        },
        {
          "output_type": "stream",
          "name": "stderr",
          "text": [
            "<ipython-input-46-f438775be978>:2: FutureWarning: The default value of numeric_only in DataFrame.corr is deprecated. In a future version, it will default to False. Select only valid columns or specify the value of numeric_only to silence this warning.\n",
            "  correlation_matrix = wine_data_all.drop(\"quality\", axis=1).corr()\n"
          ]
        }
      ]
    },
    {
      "cell_type": "markdown",
      "metadata": {
        "id": "DVh2ZDUr67ky"
      },
      "source": [
        "### Question 5\n",
        "Plot the frequency distribution of wine quality by using the Quality attribute. (8 points)"
      ]
    },
    {
      "cell_type": "code",
      "source": [
        "import matplotlib.pyplot as plt\n",
        "\n",
        "wine_data_all[\"quality\"].value_counts().sort_index().plot(kind=\"bar\")\n",
        "\n",
        "plt.title(\"Frequency Distribution of Wine Quality\")\n",
        "plt.xlabel(\"Quality\")\n",
        "plt.ylabel(\"Frequency\")\n",
        "\n",
        "plt.show()\n"
      ],
      "metadata": {
        "id": "cTS30S-ONzCA",
        "colab": {
          "base_uri": "https://localhost:8080/",
          "height": 467
        },
        "outputId": "2eb1ebb4-62d7-42f8-dc3e-c67341bac988"
      },
      "execution_count": 47,
      "outputs": [
        {
          "output_type": "display_data",
          "data": {
            "text/plain": [
              "<Figure size 640x480 with 1 Axes>"
            ],
            "image/png": "[encoded data removed]"
          },
          "metadata": {}
        }
      ]
    },
    {
      "cell_type": "markdown",
      "metadata": {
        "id": "-rwkqF6f67k0"
      },
      "source": [
        "### Question 6\n",
        "Reduce the levels of rating for quality to two levels, Pass and Fail. Assign the levels 3, 4, and 5 to level Fail; and 6, 7, 8, and 9 to level Pass. (10\n",
        "points)"
      ]
    },
    {
      "cell_type": "code",
      "source": [
        "quality_mapping = {3: \"Fail\", 4: \"Fail\", 5: \"Fail\", 6: \"Pass\", 7: \"Pass\", 8: \"Pass\", 9: \"Pass\"}\n",
        "\n",
        "# Replace the quality levels with the reduced levels\n",
        "wine_data_all[\"quality\"] = wine_data_all[\"quality\"].replace(quality_mapping)\n",
        "\n",
        "print(wine_data_all[\"quality\"].value_counts())\n"
      ],
      "metadata": {
        "id": "X-RWR6X8NyK8",
        "colab": {
          "base_uri": "https://localhost:8080/",
          "height": 0
        },
        "outputId": "c645f904-cfe6-428e-db03-217ba6c3e902"
      },
      "execution_count": 48,
      "outputs": [
        {
          "output_type": "stream",
          "name": "stdout",
          "text": [
            "Pass    4113\n",
            "Fail    2384\n",
            "Name: quality, dtype: int64\n"
          ]
        }
      ]
    },
    {
      "cell_type": "markdown",
      "metadata": {
        "id": "Uw_zd-JM67k1"
      },
      "source": [
        "### Question 7\n",
        "Normalize the numeric attributes. Hint: (x - min(x)) / (max(x) - min(x)) (10 points)"
      ]
    },
    {
      "cell_type": "code",
      "source": [
        "numeric_attributes = wine_data_all.select_dtypes(include=['float64', 'int64'])\n",
        "\n",
        "# Normalize the numeric attributes using the formula (x - min(x)) / (max(x) - min(x))\n",
        "normalized_data = (numeric_attributes - numeric_attributes.min()) / (numeric_attributes.max() - numeric_attributes.min())\n",
        "\n",
        "# Create a new DataFrame with the normalized data\n",
        "normalized_df = pd.DataFrame(normalized_data, columns=numeric_attributes.columns)\n",
        "\n",
        "print(normalized_df.head())\n"
      ],
      "metadata": {
        "id": "hw2B1opoN6eI",
        "colab": {
          "base_uri": "https://localhost:8080/",
          "height": 0
        },
        "outputId": "b1236c9d-38c3-4e07-b79e-9c7059772022"
      },
      "execution_count": 49,
      "outputs": [
        {
          "output_type": "stream",
          "name": "stdout",
          "text": [
            "   fixed acidity  volatile acidity  citric acid  residual sugar  chlorides  \\\n",
            "0       0.264463          0.126667     0.216867        0.308282   0.059801   \n",
            "1       0.206612          0.146667     0.204819        0.015337   0.066445   \n",
            "2       0.355372          0.133333     0.240964        0.096626   0.068106   \n",
            "3       0.280992          0.100000     0.192771        0.121166   0.081395   \n",
            "4       0.280992          0.100000     0.192771        0.121166   0.081395   \n",
            "\n",
            "   free sulfur dioxide  total sulfur dioxide   density        pH  sulphates  \\\n",
            "0             0.152778              0.377880  0.267785  0.217054   0.129213   \n",
            "1             0.045139              0.290323  0.132832  0.449612   0.151685   \n",
            "2             0.100694              0.209677  0.154039  0.418605   0.123596   \n",
            "3             0.159722              0.414747  0.163678  0.364341   0.101124   \n",
            "4             0.159722              0.414747  0.163678  0.364341   0.101124   \n",
            "\n",
            "    alcohol  \n",
            "0  0.115942  \n",
            "1  0.217391  \n",
            "2  0.304348  \n",
            "3  0.275362  \n",
            "4  0.275362  \n"
          ]
        }
      ]
    },
    {
      "cell_type": "markdown",
      "metadata": {
        "id": "t0MbenQb67k2"
      },
      "source": [
        "### Question 8\n",
        "Divide the dataset to training and test sets. (10 points)"
      ]
    },
    {
      "cell_type": "code",
      "source": [
        "from sklearn.model_selection import train_test_split\n",
        "\n",
        "# Separate the features (X) and target variable (y)\n",
        "X = wine_data_all.drop(\"quality\", axis=1)\n",
        "y = wine_data_all[\"quality\"]\n",
        "\n",
        "# Split the dataset into training and test sets\n",
        "X_train, X_test, y_train, y_test = train_test_split(X, y, test_size=0.2, random_state=42)\n",
        "\n",
        "print(\"Training set shape:\", X_train.shape, y_train.shape)\n",
        "print(\"Test set shape:\", X_test.shape, y_test.shape)\n"
      ],
      "metadata": {
        "id": "9CnlI4X7N4nQ",
        "colab": {
          "base_uri": "https://localhost:8080/",
          "height": 0
        },
        "outputId": "68b070e3-44a9-46cb-9607-782faa1c2fa5"
      },
      "execution_count": 50,
      "outputs": [
        {
          "output_type": "stream",
          "name": "stdout",
          "text": [
            "Training set shape: (5197, 12) (5197,)\n",
            "Test set shape: (1300, 12) (1300,)\n"
          ]
        }
      ]
    },
    {
      "cell_type": "markdown",
      "source": [
        "### Question 9\n",
        "Use the Logistic Regression algorithm to predict the quality of wine using its attributes. (12 points)"
      ],
      "metadata": {
        "id": "Z0-NvzsYno7l"
      }
    },
    {
      "cell_type": "code",
      "source": [
        "from sklearn.compose import ColumnTransformer\n",
        "from sklearn.preprocessing import OneHotEncoder, MinMaxScaler\n",
        "from sklearn.linear_model import LogisticRegression\n",
        "from sklearn.model_selection import train_test_split\n",
        "from sklearn.metrics import accuracy_score\n",
        "\n",
        "X = wine_data_all.drop(\"quality\", axis=1)\n",
        "y = wine_data_all[\"quality\"]\n",
        "\n",
        "# Split the dataset into training and test sets\n",
        "X_train, X_test, y_train, y_test = train_test_split(X, y, test_size=0.2, random_state=42)\n",
        "\n",
        "# Identify categorical columns for one-hot encoding\n",
        "categorical_cols = ['wine_type']\n",
        "\n",
        "# Perform one-hot encoding on categorical columns\n",
        "ct = ColumnTransformer(transformers=[('encoder', OneHotEncoder(), categorical_cols)], remainder='passthrough')\n",
        "X_train_encoded = ct.fit_transform(X_train)\n",
        "X_test_encoded = ct.transform(X_test)\n",
        "\n",
        "# Scaling the data\n",
        "scaler = MinMaxScaler()\n",
        "X_train_scaled = scaler.fit_transform(X_train_encoded)\n",
        "X_test_scaled = scaler.transform(X_test_encoded)\n",
        "\n",
        "logreg = LogisticRegression(max_iter=1000)\n",
        "\n",
        "# Fit the model to the training data\n",
        "logreg.fit(X_train_scaled, y_train)\n",
        "\n",
        "# Make predictions\n",
        "y_pred = logreg.predict(X_test_scaled)\n",
        "\n",
        "# Calculate the accuracy of the model\n",
        "accuracy = accuracy_score(y_test, y_pred)\n",
        "\n",
        "print(\"Accuracy:\", accuracy)\n"
      ],
      "metadata": {
        "id": "u7Zt02kjN29X",
        "colab": {
          "base_uri": "https://localhost:8080/",
          "height": 0
        },
        "outputId": "885a20b0-0707-4b58-de06-6dad33a35c85"
      },
      "execution_count": 51,
      "outputs": [
        {
          "output_type": "stream",
          "name": "stdout",
          "text": [
            "Accuracy: 0.7453846153846154\n"
          ]
        }
      ]
    },
    {
      "cell_type": "markdown",
      "metadata": {
        "id": "UtVW9Wqi67k5"
      },
      "source": [
        "### Question 10\n",
        "Use the KNN algorithm to predict the quality of wine using its attributes. (12 points)"
      ]
    },
    {
      "cell_type": "code",
      "source": [
        "from sklearn.preprocessing import LabelEncoder\n",
        "from sklearn.compose import ColumnTransformer\n",
        "from sklearn.preprocessing import OneHotEncoder\n",
        "from sklearn.neighbors import KNeighborsClassifier\n",
        "from sklearn.metrics import accuracy_score, precision_score, recall_score, f1_score\n",
        "from sklearn.model_selection import train_test_split\n",
        "\n",
        "X = wine_data_all.drop(\"quality\", axis=1)\n",
        "y = wine_data_all[\"quality\"]\n",
        "\n",
        "# Split the dataset into training and test sets\n",
        "X_train, X_test, y_train, y_test = train_test_split(X, y, test_size=0.2, random_state=42)\n",
        "\n",
        "# Create a label encoder to convert the \"wine_type\" column to numeric values\n",
        "label_encoder = LabelEncoder()\n",
        "X_train[\"wine_type_encoded\"] = label_encoder.fit_transform(X_train[\"wine_type\"])\n",
        "\n",
        "# Remove the original \"wine_type\" column from the training data\n",
        "X_train_encoded = X_train.drop(\"wine_type\", axis=1)\n",
        "\n",
        "\n",
        "column_transformer = ColumnTransformer(\n",
        "    transformers=[(\"encoder\", OneHotEncoder(), [\"wine_type_encoded\"])],\n",
        "    remainder=\"passthrough\"\n",
        ")\n",
        "\n",
        "X_train_encoded = column_transformer.fit_transform(X_train_encoded)\n",
        "\n",
        "# Create an instance of the KNN classifier\n",
        "knn = KNeighborsClassifier()\n",
        "\n",
        "# Fitting the model to the training data\n",
        "knn.fit(X_train_encoded, y_train)\n",
        "\n",
        "# Apply the label encoder and column transformer to the test data\n",
        "X_test[\"wine_type_encoded\"] = label_encoder.transform(X_test[\"wine_type\"])\n",
        "X_test_encoded = column_transformer.transform(X_test.drop(\"wine_type\", axis=1))\n",
        "\n",
        "# Make predictions on the test data\n",
        "y_pred = knn.predict(X_test_encoded)\n",
        "\n",
        "# Calculate evaluation metrics\n",
        "accuracy = accuracy_score(y_test, y_pred)\n",
        "precision = precision_score(y_test, y_pred, pos_label=\"Pass\")\n",
        "recall = recall_score(y_test, y_pred, pos_label=\"Pass\")\n",
        "f1 = f1_score(y_test, y_pred, pos_label=\"Pass\")\n",
        "\n",
        "print(\"Accuracy:\", accuracy)\n",
        "print(\"Precision:\", precision)\n",
        "print(\"Recall:\", recall)\n",
        "print(\"F1-Score:\", f1)\n"
      ],
      "metadata": {
        "id": "y_HYHeryN74o",
        "colab": {
          "base_uri": "https://localhost:8080/",
          "height": 0
        },
        "outputId": "266b5705-2775-4a55-bac9-f8dadc7634e6"
      },
      "execution_count": 52,
      "outputs": [
        {
          "output_type": "stream",
          "name": "stdout",
          "text": [
            "Accuracy: 0.6815384615384615\n",
            "Precision: 0.7391304347826086\n",
            "Recall: 0.7764423076923077\n",
            "F1-Score: 0.7573270808909731\n"
          ]
        }
      ]
    },
    {
      "cell_type": "markdown",
      "metadata": {
        "id": "5_QQUorI67k8"
      },
      "source": [
        "### Question 11\n",
        "Display two confusion matrices to evaluate the performances of Logistic Regression and KNN. (A simple matrix is enough. No need to plot it.) (12 points)"
      ]
    },
    {
      "cell_type": "code",
      "source": [
        "from sklearn.metrics import confusion_matrix\n",
        "\n",
        "# Fit the model to the training data for Logistic Regression\n",
        "logreg.fit(X_train_encoded, y_train)\n",
        "\n",
        "# Making predictions on the test data for Logistic Regression\n",
        "y_pred_logreg = logreg.predict(X_test_encoded)\n",
        "\n",
        "# Fit the model to the training data for KNN\n",
        "knn.fit(X_train_encoded, y_train)\n",
        "\n",
        "# Make predictions on the test data for KNN\n",
        "y_pred_knn = knn.predict(X_test_encoded)\n",
        "\n",
        "# Calculating the confusion matrices\n",
        "cm_logreg = confusion_matrix(y_test, y_pred_logreg)\n",
        "cm_knn = confusion_matrix(y_test, y_pred_knn)\n",
        "\n",
        "print(\"Confusion Matrix - Logistic Regression:\")\n",
        "print(cm_logreg)\n",
        "\n",
        "print(\"\\nConfusion Matrix - KNN:\")\n",
        "print(cm_knn)\n"
      ],
      "metadata": {
        "id": "ouA67eYaN96I",
        "colab": {
          "base_uri": "https://localhost:8080/",
          "height": 0
        },
        "outputId": "d780bffa-5a61-4646-9e7d-ee3e395fe4a3"
      },
      "execution_count": 53,
      "outputs": [
        {
          "output_type": "stream",
          "name": "stdout",
          "text": [
            "Confusion Matrix - Logistic Regression:\n",
            "[[272 196]\n",
            " [137 695]]\n",
            "\n",
            "Confusion Matrix - KNN:\n",
            "[[240 228]\n",
            " [186 646]]\n"
          ]
        }
      ]
    },
    {
      "cell_type": "markdown",
      "metadata": {
        "id": "O0kvru8vIr5y"
      },
      "source": [
        "### Question 12\n",
        "Evaluate the models’ performances by computing Accuracy, Precision, and Recall. If you are using a package to calculate the values, you should explain what you understand from the output of the package by mentioning the exact accuracy, precision, and recall values in your own words. (12 points)\n"
      ]
    },
    {
      "cell_type": "code",
      "source": [
        "from sklearn.metrics import accuracy_score, precision_score, recall_score\n",
        "\n",
        "# Compute accuracy\n",
        "accuracy = accuracy_score(y_test, y_pred)\n",
        "print(\"Accuracy:\", accuracy)\n",
        "\n",
        "# Compute precision\n",
        "precision = precision_score(y_test, y_pred, pos_label=\"Pass\")\n",
        "print(\"Precision:\", precision)\n",
        "\n",
        "# Compute recall\n",
        "recall = recall_score(y_test, y_pred, pos_label=\"Pass\")\n",
        "print(\"Recall:\", recall)\n",
        "\n",
        "# Explanation:\n",
        "# Accurancy: is approximately 70.23%, means that around 70.23% of the samples in the test set were correctly classified by the model.\n",
        "# Precision: is approximately 74.92%, iindicates that among the samples predicted as \"Pass\" (positive class), around 74.92% of them were actually true positives,\n",
        "# while the remaining percentage could be false positives.\n",
        "# Recall: the sensitivity of the model is approximately 80.41%, suggests that out of all the true positive samples in the test set, around 80.41%\n",
        "# of them were correctly identified by the model. It indicates the model's ability to capture the positive samples."
      ],
      "metadata": {
        "id": "UZXatoOkN_Bd",
        "colab": {
          "base_uri": "https://localhost:8080/",
          "height": 0
        },
        "outputId": "f2b7ccef-5db2-488d-ebfe-3af8f288f2af"
      },
      "execution_count": 54,
      "outputs": [
        {
          "output_type": "stream",
          "name": "stdout",
          "text": [
            "Accuracy: 0.6815384615384615\n",
            "Precision: 0.7391304347826086\n",
            "Recall: 0.7764423076923077\n"
          ]
        }
      ]
    },
    {
      "cell_type": "markdown",
      "source": [
        "This is the end of Assignment 3\n",
        "\n",
        "Ceni Babaoglu, PhD"
      ],
      "metadata": {
        "id": "iIvLfsi-bz2Z"
      }
    }
  ]
}